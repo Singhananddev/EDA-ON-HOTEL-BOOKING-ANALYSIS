{
  "nbformat": 4,
  "nbformat_minor": 0,
  "metadata": {
    "colab": {
      "private_outputs": true,
      "provenance": [],
      "collapsed_sections": [
        "beRrZCGUAJYm",
        "w6K7xa23Elo4",
        "EXh0U9oCveiU",
        "g-ATYxFrGrvw",
        "Yfr_Vlr8HBkt",
        "8yEUt7NnHlrM",
        "tEA2Xm5dHt1r",
        "I79__PHVH19G",
        "Ou-I18pAyIpj",
        "fF3858GYyt-u",
        "4_0_7-oCpUZd",
        "hwyV_J3ipUZe",
        "3yB-zSqbpUZe",
        "dEUvejAfpUZe",
        "Fd15vwWVpUZf",
        "bn_IUdTipZyH",
        "49K5P_iCpZyH",
        "Nff-vKELpZyI",
        "kLW572S8pZyI",
        "dWbDXHzopZyI",
        "id1riN9m0vUs",
        "578E2V7j08f6",
        "k5UmGsbsOxih",
        "pEMng2IbBLp7",
        "rAdphbQ9Bhjc",
        "TNVZ9zx19K6k",
        "nqoHp30x9hH9",
        "rMDnDkt2B6du",
        "yiiVWRdJDDil",
        "kexQrXU-DjzY",
        "T5CmagL3EC8N",
        "BhH2vgX9EjGr",
        "qjKvONjwE8ra",
        "P1XJ9OREExlT",
        "VFOzZv6IFROw",
        "TIqpNgepFxVj",
        "VfCC591jGiD4",
        "OB4l2ZhMeS1U",
        "ArJBuiUVfxKd",
        "4qY1EAkEfxKe",
        "PiV4Ypx8fxKe",
        "TfvqoZmBfxKf",
        "dJ2tPlVmpsJ0",
        "JWYfwnehpsJ1",
        "-jK_YjpMpsJ2",
        "HAih1iBOpsJ2",
        "zVGeBEFhpsJ2",
        "bmKjuQ-FpsJ3",
        "Fze-IPXLpx6K",
        "7AN1z2sKpx6M",
        "9PIHJqyupx6M",
        "_-qAgymDpx6N",
        "Z-hykwinpx6N",
        "h_CCil-SKHpo",
        "cBFFvTBNJzUa",
        "HvGl1hHyA_VK",
        "KH5McJBi2d8v",
        "iW_Lq9qf2h6X",
        "gIfDvo9L0UH2"
      ]
    },
    "kernelspec": {
      "name": "python3",
      "display_name": "Python 3"
    },
    "language_info": {
      "name": "python"
    }
  },
  "cells": [
    {
      "cell_type": "markdown",
      "source": [
        "# **Project Name**    - Hotel Booking Analysis\n",
        "\n"
      ],
      "metadata": {
        "id": "vncDsAP0Gaoa"
      }
    },
    {
      "cell_type": "markdown",
      "source": [
        "##### **Project Type**    - EDA/Regression/Classification/Unsupervised\n",
        "##### **Contribution**    - Individual\n",
        "##### **Team Member 1 -** Ananddev singh\n"
      ],
      "metadata": {
        "id": "beRrZCGUAJYm"
      }
    },
    {
      "cell_type": "markdown",
      "source": [
        "# **Project Summary -**"
      ],
      "metadata": {
        "id": "FJNUwmbgGyua"
      }
    },
    {
      "cell_type": "markdown",
      "source": [
        "Hotel business is a lucrative yet very volatile business segment. It’s dependent on multiple criteria like type of hotel, business seasons, customer segments, multiple modes of booking, amenities, services and many more. Over the past couple of decades, it saw a massive surge in terms of profit, but then global pandemic hit worldwide and almost all industry sectors observed a deprivation in their business with ‘Hotel’ sector taking a major blow. This has made many entrepreneurs and business leaders realize how important it is to be strategic and leverage data analysis for making intelligent business decisions, thereby penetrating the market deep and gain more marketshares.\n",
        "\n",
        "By applying Exploratory Data Analysis principles and feature engineering, this study aims to explore merits of analysis on Hotels dataset that governs bookings and can help in increasing customer base. Secondary objective is to help the customers in deciding the best period to visit places while availing low accommodation cost benefits. In this project we were provided dataset containing booking information about two types of hotel and various other related booking criteria.\n",
        "\n",
        "First step of approach involved Data Exploration and Inspection over the raw data. Second step involved Data Cleaning by handling null values, dropping irrelevant columns and rows, parsing date in string to Datetime format and adding new feature columns that can help in better decision support. Final step involved performing a comprehensive data analysis over clean data to analyze the factors that affect hotel bookings and creating Data Visualization for the same. These factors can further helps in drawing booking, pricing and other correlated trends which can further aid in predicting business at high level.\n",
        "\n",
        "EDA will be divided into following 3 analysis:\n",
        "Univariate analysis: Univariate analysis is the simplest of the three analyses where the data, you are analyzing is only one variable.\n",
        "Bivariate analysis: Bivariate analysis is where you are comparing two variables to study their relationships.\n",
        "Multivariate analysis: Multivariate analysis is similar to Bivariate analysis but you are comparing more than two variables."
      ],
      "metadata": {
        "id": "F6v_1wHtG2nS"
      }
    },
    {
      "cell_type": "markdown",
      "source": [
        "# **GitHub Link -**"
      ],
      "metadata": {
        "id": "w6K7xa23Elo4"
      }
    },
    {
      "cell_type": "markdown",
      "source": [
        "Provide your GitHub Link here."
      ],
      "metadata": {
        "id": "h1o69JH3Eqqn"
      }
    },
    {
      "cell_type": "markdown",
      "source": [
        "# **Problem Statement**\n",
        "Have you ever wondered when the best time of year to book a hotel room is? Or the optimal length of stay in order to get the best daily rate? What if you wanted to predict whether or not a hotel was likely to receive a disproportionately high number of special requests? This hotel booking dataset can help you explore those questions!\n",
        "\n",
        "This data set contains booking information for a city hotel and a resort hotel, and includes information such as when the booking was made, length of stay, the number of adults, children, and/or babies, and the number of available parking spaces, among other things. All personally identifying information has been removed from the data.\n",
        "\n",
        "Explore and analyze the data to discover important factors that govern the bookings."
      ],
      "metadata": {
        "id": "yQaldy8SH6Dl"
      }
    },
    {
      "cell_type": "markdown",
      "source": [
        "**Write Problem Statement Here.**\n",
        "Define Your Business Objective?\n",
        "BUSINESS OBJECTIVE\n",
        "\n",
        "The dataset contains booking information for two different hotels. One being City Hotel and another Resort Hotel along with information on various booking criteria such as booking season, time of booking, length of stay, number of adults, children and babies, parking spaces, pricing data, market segment and many more.\n",
        "\n",
        "Primary objective is to explore and inspect the dataset; and discover important features using Exploratory Data Analysis that can govern bookings and help hotels penetrate deep into market, thereby attracting more customers. Analyze booking and pricing trends to draw out insights to make intelligent business decision.\n",
        "\n",
        "Secondary objective is help the customers in deciding best period to visit places while availing low accommodation cost benefits."
      ],
      "metadata": {
        "id": "DpeJGUA3kjGy"
      }
    },
    {
      "cell_type": "markdown",
      "source": [
        "# **General Guidelines** : -\n",
        "Well-structured, formatted, and commented code is required.\n",
        "\n",
        "Exception Handling, Production Grade Code & Deployment Ready Code will be a plus. Those students will be awarded some additional credits.\n",
        "\n",
        "The additional credits will have advantages over other students during Star Student selection.\n",
        "\n",
        "    [ Note: - Deployment Ready Code is defined as, the whole .ipynb notebook should be executable in one go\n",
        "              without a single error logged. ]\n",
        "\n",
        "Each and every logic should have proper comments.\n",
        "\n",
        "You may add as many number of charts you want. Make Sure for each and every chart the following format should be answered.\n",
        "\n",
        "# Chart visualization code\n",
        "Why did you pick the specific chart?\n",
        "What is/are the insight(s) found from the chart?\n",
        "Will the gained insights help creating a positive business impact?\n",
        "Are there any insights that lead to negative growth? Justify with specific reason.\n",
        "\n",
        "You have to create at least 20 logical & meaningful charts having important insights.\n",
        "[ Hints : - Do the Vizualization in a structured way while following \"UBM\" Rule.\n",
        "\n",
        "U - Univariate Analysis,\n",
        "\n",
        "B - Bivariate Analysis (Numerical - Categorical, Numerical - Numerical, Categorical - Categorical)\n",
        "M - Multivariate Analysis ]"
      ],
      "metadata": {
        "id": "mDgbUHAGgjLW"
      }
    },
    {
      "cell_type": "markdown",
      "source": [
        "1.   Well-structured, formatted, and commented code is required.\n",
        "2.   Exception Handling, Production Grade Code & Deployment Ready Code will be a plus. Those students will be awarded some additional credits.\n",
        "\n",
        "     The additional credits will have advantages over other students during Star Student selection.\n",
        "\n",
        "             [ Note: - Deployment Ready Code is defined as, the whole .ipynb notebook should be executable in one go\n",
        "                       without a single error logged. ]\n",
        "\n",
        "3.   Each and every logic should have proper comments.\n",
        "4. You may add as many number of charts you want. Make Sure for each and every chart the following format should be answered.\n",
        "\n",
        "\n",
        "```\n",
        "# Chart visualization code\n",
        "```\n",
        "\n",
        "\n",
        "*   Why did you pick the specific chart?\n",
        "*   What is/are the insight(s) found from the chart?\n",
        "* Will the gained insights help creating a positive business impact?\n",
        "Are there any insights that lead to negative growth? Justify with specific reason.\n",
        "\n",
        "5. You have to create at least 15 logical & meaningful charts having important insights.\n",
        "\n",
        "\n",
        "[ Hints : - Do the Vizualization in  a structured way while following \"UBM\" Rule.\n",
        "\n",
        "U - Univariate Analysis,\n",
        "\n",
        "B - Bivariate Analysis (Numerical - Categorical, Numerical - Numerical, Categorical - Categorical)\n",
        "\n",
        "M - Multivariate Analysis\n",
        " ]\n",
        "\n",
        "\n",
        "\n",
        "\n",
        "\n",
        "6. You may add more ml algorithms for model creation. Make sure for each and every algorithm, the following format should be answered.\n",
        "\n",
        "\n",
        "*   Explain the ML Model used and it's performance using Evaluation metric Score Chart.\n",
        "\n",
        "\n",
        "*   Cross- Validation & Hyperparameter Tuning\n",
        "\n",
        "*   Have you seen any improvement? Note down the improvement with updates Evaluation metric Score Chart.\n",
        "\n",
        "*   Explain each evaluation metric's indication towards business and the business impact pf the ML model used.\n",
        "\n",
        "\n",
        "\n",
        "\n",
        "\n",
        "\n",
        "\n",
        "\n",
        "\n",
        "\n",
        "\n",
        "\n",
        "\n",
        "\n",
        "\n",
        "\n",
        "\n",
        "\n"
      ],
      "metadata": {
        "id": "ZrxVaUj-hHfC"
      }
    },
    {
      "cell_type": "markdown",
      "source": [
        "# ***Let's Begin !***"
      ],
      "metadata": {
        "id": "O_i_v8NEhb9l"
      }
    },
    {
      "cell_type": "markdown",
      "source": [
        "## ***1. Know Your Data***\n"
      ],
      "metadata": {
        "id": "HhfV-JJviCcP"
      }
    },
    {
      "cell_type": "markdown",
      "source": [
        "### Import Libraries"
      ],
      "metadata": {
        "id": "Y3lxredqlCYt"
      }
    },
    {
      "cell_type": "code",
      "source": [
        "# Import Libraries\n",
        "import pandas as pd\n",
        "import numpy as np\n",
        "import matplotlib.pyplot as plt\n",
        "%matplotlib inline\n",
        "import seaborn as sns\n",
        "from datetime import datetime"
      ],
      "metadata": {
        "id": "M8Vqi-pPk-HR"
      },
      "execution_count": null,
      "outputs": []
    },
    {
      "cell_type": "markdown",
      "source": [
        "### Dataset Loading"
      ],
      "metadata": {
        "id": "3RnN4peoiCZX"
      }
    },
    {
      "cell_type": "code",
      "source": [
        "# Load Dataset\n",
        "# Mounting Google drive\n",
        "from google.colab import drive\n",
        "drive.mount('/content/drive')"
      ],
      "metadata": {
        "id": "4CkvbW_SlZ_R"
      },
      "execution_count": null,
      "outputs": []
    },
    {
      "cell_type": "code",
      "source": [
        "# csv file location\n",
        "csv_file = ('/content/drive/MyDrive/Colab Notebooks/Hotel Bookings.csv')\n",
        "\n",
        "\n",
        "# Reading the data set\n",
        "data_set = pd.read_csv(csv_file)\n",
        "\n",
        "# Creating a copy of data set\n",
        "data = data_set.copy()"
      ],
      "metadata": {
        "id": "kF7mR6SHGSOZ"
      },
      "execution_count": null,
      "outputs": []
    },
    {
      "cell_type": "code",
      "source": [
        "from google.colab import drive\n",
        "drive.mount('/content/drive')"
      ],
      "metadata": {
        "id": "SKyhRrylzRQ5"
      },
      "execution_count": null,
      "outputs": []
    },
    {
      "cell_type": "markdown",
      "source": [
        "### Dataset First View"
      ],
      "metadata": {
        "id": "x71ZqKXriCWQ"
      }
    },
    {
      "cell_type": "code",
      "source": [
        "# Dataset First Look\n",
        "# Checking the first 5 rows of data\n",
        "data.head()"
      ],
      "metadata": {
        "id": "LWNFOSvLl09H"
      },
      "execution_count": null,
      "outputs": []
    },
    {
      "cell_type": "code",
      "source": [
        "# Checking the bottom 5 rows of the data\n",
        "data.tail()\n"
      ],
      "metadata": {
        "id": "O6hLtun-Gpsk"
      },
      "execution_count": null,
      "outputs": []
    },
    {
      "cell_type": "markdown",
      "source": [
        "### Dataset Rows & Columns count"
      ],
      "metadata": {
        "id": "7hBIi_osiCS2"
      }
    },
    {
      "cell_type": "code",
      "source": [
        "\n",
        "print(f'We have {data.shape[0]} of rows and {data.shape[1]} columns.')"
      ],
      "metadata": {
        "id": "Kllu7SJgmLij"
      },
      "execution_count": null,
      "outputs": []
    },
    {
      "cell_type": "markdown",
      "source": [
        "### Dataset Information"
      ],
      "metadata": {
        "id": "JlHwYmJAmNHm"
      }
    },
    {
      "cell_type": "code",
      "source": [
        "#Inspecting each columns and its dtype\n",
        "data.info()\n"
      ],
      "metadata": {
        "id": "e9hRXRi6meOf"
      },
      "execution_count": null,
      "outputs": []
    },
    {
      "cell_type": "markdown",
      "source": [
        "#### Duplicate Values"
      ],
      "metadata": {
        "id": "35m5QtbWiB9F"
      }
    },
    {
      "cell_type": "code",
      "source": [
        "#true means duplicate rows\n",
        "data.duplicated().value_counts()"
      ],
      "metadata": {
        "id": "1sLdpKYkmox0"
      },
      "execution_count": null,
      "outputs": []
    },
    {
      "cell_type": "code",
      "source": [
        "# Visualizing through Count Plot\n",
        "plt.figure(figsize=(10,8))\n",
        "sns.countplot(x=data.duplicated())"
      ],
      "metadata": {
        "id": "psEi6kA8HClZ"
      },
      "execution_count": null,
      "outputs": []
    },
    {
      "cell_type": "code",
      "source": [
        "# Dropping the duplicate rows\n",
        "data = data.drop_duplicates()"
      ],
      "metadata": {
        "id": "7tHRKaHgHI3y"
      },
      "execution_count": null,
      "outputs": []
    },
    {
      "cell_type": "code",
      "source": [
        "# Dataset reduced\n",
        "data.shape"
      ],
      "metadata": {
        "id": "dNgIhdrVHKOc"
      },
      "execution_count": null,
      "outputs": []
    },
    {
      "cell_type": "markdown",
      "source": [
        "#### Missing Values/Null Values"
      ],
      "metadata": {
        "id": "PoPl-ycgm1ru"
      }
    },
    {
      "cell_type": "code",
      "source": [
        "null_df = pd.DataFrame(data.isnull().sum().sort_values(ascending = False)[:6], columns=['Null values'])\n",
        "null_df['Null Percentage'] = null_df['Null values'] / data.shape[0] * 100\n",
        "null_df\n",
        "\n"
      ],
      "metadata": {
        "id": "GgHWkxvamxVg"
      },
      "execution_count": null,
      "outputs": []
    },
    {
      "cell_type": "code",
      "source": [
        "# Visualizing the missing values\n",
        "plt.figure(figsize=(25, 10))\n",
        "sns.heatmap(data.isnull(), cbar=True, yticklabels=False,cmap='inferno')\n",
        "plt.xlabel(\"Name Of Columns\")\n",
        "plt.title(\"Places of missing values in column\")"
      ],
      "metadata": {
        "id": "3q5wnI3om9sJ"
      },
      "execution_count": null,
      "outputs": []
    },
    {
      "cell_type": "markdown",
      "source": [
        "### What did you know about your dataset?"
      ],
      "metadata": {
        "id": "H0kj-8xxnORC"
      }
    },
    {
      "cell_type": "markdown",
      "source": [
        "So we have null values in columns - company, agent, country and children.\n",
        "\n",
        "A) For company I will drop the column because it contains 94% null data.\n",
        "\n",
        "B) For agent I will fill the null values with 0 assuming those rooms were booked without any agents.\n",
        "\n",
        "C) For country I will fill the null values with object 'Others', assuming tourist belong to country other than available list.\n",
        "\n",
        "D) For children, I will fill the null values with 0, assuming 0 children in that family."
      ],
      "metadata": {
        "id": "gfoNAAC-nUe_"
      }
    },
    {
      "cell_type": "markdown",
      "source": [
        "## ***2. Understanding Your Variables***"
      ],
      "metadata": {
        "id": "nA9Y7ga8ng1Z"
      }
    },
    {
      "cell_type": "code",
      "source": [
        "# Dataset Columns\n",
        "print(list(data.columns))\n"
      ],
      "metadata": {
        "id": "j7xfkqrt5Ag5"
      },
      "execution_count": null,
      "outputs": []
    },
    {
      "cell_type": "code",
      "source": [
        "# Dataset Describe\n",
        "# Checking statistical data on numerical columns.\n",
        "data.describe(include = 'all')"
      ],
      "metadata": {
        "id": "DnOaZdaE5Q5t"
      },
      "execution_count": null,
      "outputs": []
    },
    {
      "cell_type": "markdown",
      "source": [
        "### Variables Description"
      ],
      "metadata": {
        "id": "PBTbrJXOngz2"
      }
    },
    {
      "cell_type": "markdown",
      "source": [
        "hotel : Hotel(Resort Hotel or City Hotel)\n",
        "\n",
        "is_canceled : Value indicating if the booking was canceled (1) or not (0)\n",
        "\n",
        "lead_time :* Number of days that elapsed between the entering date of the booking into the PMS and the arrival date*\n",
        "\n",
        "arrival_date_year : Year of arrival date\n",
        "\n",
        "arrival_date_month : Month of arrival date\n",
        "\n",
        "arrival_date_week_number : Week number of year for arrival date\n",
        "\n",
        "arrival_date_day_of_month : Day of arrival date\n",
        "\n",
        "stays_in_weekend_nights : Number of weekend nights (Saturday or Sunday) the guest stayed or booked to stay at the hotel\n",
        "\n",
        "stays_in_week_nights : Number of week nights (Monday to Friday) the guest stayed or booked to stay at the hotel\n",
        "\n",
        "adults : Number of adults\n",
        "\n",
        "children : Number of children\n",
        "\n",
        "babies : Number of babies\n",
        "\n",
        "meal : Type of meal booked. Categories are presented in standard hospitality meal packages:\n",
        "\n",
        "country : Country of origin.`\n",
        "market_segment : Market segment designation. In categories, the term “TA” means “Travel Agents” and “TO” means “Tour Operators”\n",
        "\n",
        "distribution_channel : Booking distribution channel. The term “TA” means “Travel Agents” and “TO” means “Tour Operators”\n",
        "\n",
        "is_repeated_guest : Value indicating if the booking name was from a repeated guest (1) or not (0)\n",
        "\n",
        "previous_cancellations : Number of previous bookings that were cancelled by the customer prior to the current booking\n",
        "\n",
        "previous_bookings_not_canceled : Number of previous bookings not cancelled by the customer prior to the current booking\n",
        "\n",
        "reserved_room_type : Code of room type reserved. Code is presented instead of designation for anonymity reasons.\n",
        "\n",
        "assigned_room_type : Code for the type of room assigned to the booking.\n",
        "\n",
        "booking_changes : Number of changes/amendments made to the booking from the moment the booking was entered on the PMS until the moment of check-in or cancellation\n",
        "\n",
        "deposit_type : Indication on if the customer made a deposit to guarantee the booking.\n",
        "\n",
        "agent : ID of the travel agency that made the booking\n",
        "\n",
        "company : ID of the company/entity that made the booking or responsible for paying the booking.\n",
        "\n",
        "days_in_waiting_list : Number of days the booking was in the waiting list before it was confirmed to the customer\n",
        "\n",
        "customer_type : Type of booking, assuming one of four categories\n",
        "\n",
        "adr : Average Daily Rate as defined by dividing the sum of all lodging transactions by the total number of staying nights\n",
        "required_car_parking_spaces : Number of car parking spaces required by the customer\n",
        "\n",
        "total_of_special_requests :Number of special requests made by the customer (e.g. twin bed or high floor)*\n",
        "\n",
        "reservation_status : Reservation last status, assuming one of three categories\n",
        "\n",
        "Canceled – booking was canceled by the customer\n",
        "Check-Out – customer has checked in but already departed\n",
        "No-Show – customer did not check-in and did inform the hotel of the reason why\n",
        "reservation_status_date : Date at which the last status was set. This variable can be used in conjunction with the ReservationStatus to understand when was the booking canceled or when did the customer checked-out of the hotel"
      ],
      "metadata": {
        "id": "aJV4KIxSnxay"
      }
    },
    {
      "cell_type": "markdown",
      "source": [
        "### Check Unique Values for each variable."
      ],
      "metadata": {
        "id": "u3PMJOP6ngxN"
      }
    },
    {
      "cell_type": "markdown",
      "source": [
        "## 3. ***Data Wrangling***"
      ],
      "metadata": {
        "id": "dauF4eBmngu3"
      }
    },
    {
      "cell_type": "markdown",
      "source": [
        "### Data Wrangling Code"
      ],
      "metadata": {
        "id": "bKJF3rekwFvQ"
      }
    },
    {
      "cell_type": "code",
      "source": [
        "# Write your code to make your dataset analysis ready.\n",
        "# Filling null values in agent with 0 assuming those rooms were booked without any agents\n",
        "data[\"agent\"].fillna(0,inplace=True)\n",
        "\n",
        "# Filling null values in children with 0 assuming 0 children in that family\n",
        "data[\"children\"].fillna(0,inplace=True)\n",
        "\n",
        "# Filling null values in Country with 'Other' category assuming tourist belong to country other than available list\n",
        "data[\"country\"].fillna('other',inplace = True)\n"
      ],
      "metadata": {
        "id": "wk-9a2fpoLcV"
      },
      "execution_count": null,
      "outputs": []
    },
    {
      "cell_type": "code",
      "source": [
        "# Droping company column because it contains 94% null data\n",
        "data.drop(['company'], axis=1, inplace=True)\n",
        "\n",
        "# Droping rows where there is no data on adults, children, babies combined\n",
        "no_guest=data[data['adults']+data['babies']+data['children']==0]\n",
        "data.drop(no_guest.index, inplace=True)"
      ],
      "metadata": {
        "id": "QacO6CT6Ikav"
      },
      "execution_count": null,
      "outputs": []
    },
    {
      "cell_type": "code",
      "source": [
        "# Checking the null values\n",
        "data.isna().sum().sort_values(ascending=False)[:5]"
      ],
      "metadata": {
        "id": "ChiLS8JFIld9"
      },
      "execution_count": null,
      "outputs": []
    },
    {
      "cell_type": "code",
      "source": [
        "# Parsing reservation_status date into datetime\n",
        "data['reservation_status_date'] = pd.to_datetime(data['reservation_status_date'], format = '%Y-%m-%d')"
      ],
      "metadata": {
        "id": "TyGPkE4vIo96"
      },
      "execution_count": null,
      "outputs": []
    },
    {
      "cell_type": "markdown",
      "source": [
        "Adding new columns of Arrival month, Total People and Total Stay (Feature Engineering)"
      ],
      "metadata": {
        "id": "NtCGqgLZdJWl"
      }
    },
    {
      "cell_type": "code",
      "source": [
        "# Parsing arrival_date_month into datetime and adding a new column with parsed month number\n",
        "data['arrival_month'] = data['arrival_date_month'].apply(lambda x : datetime.strptime(x,'%B'))\n",
        "data['arrival_month'] = data['arrival_month'].apply(lambda x : x.month)           #Will be used for sorting columns months wise"
      ],
      "metadata": {
        "id": "Xsmw7SjOIz7q"
      },
      "execution_count": null,
      "outputs": []
    },
    {
      "cell_type": "code",
      "source": [
        "# Adding new column \"total_people\" by adding columns values of 'adults', 'children' and 'babies'\n",
        "data['total_people'] = data['adults'] + data['children'] + data ['babies']\n",
        "\n",
        "# Adding new column 'total_stay' by adding columns values of 'stays_in_weekend_nights' and 'stays_in_week_nights'\n",
        "data['total_stay'] = data ['stays_in_weekend_nights'] + data ['stays_in_week_nights']"
      ],
      "metadata": {
        "id": "JwdemkDJI4kL"
      },
      "execution_count": null,
      "outputs": []
    },
    {
      "cell_type": "code",
      "source": [
        "data.info()"
      ],
      "metadata": {
        "id": "La4K4BOsI8Lq"
      },
      "execution_count": null,
      "outputs": []
    },
    {
      "cell_type": "code",
      "source": [
        "#Checking of new columns\n",
        "data.head()"
      ],
      "metadata": {
        "id": "N6kkgCgQJAbw"
      },
      "execution_count": null,
      "outputs": []
    },
    {
      "cell_type": "code",
      "source": [
        "#Final size of dataset post cleaning\n",
        "data.shape"
      ],
      "metadata": {
        "id": "MxU2oeG2JFQr"
      },
      "execution_count": null,
      "outputs": []
    },
    {
      "cell_type": "markdown",
      "source": [
        "Checking the unique values in categorical columns"
      ],
      "metadata": {
        "id": "P-5RPpNndYvY"
      }
    },
    {
      "cell_type": "code",
      "source": [
        "#Removing the datetime datatype and unique country data\n",
        "categorical_cols=list(set(data.drop(columns=['reservation_status_date','country','arrival_date_month','arrival_date_day_of_month', 'arrival_date_year']).columns)- set(data.describe()))\n",
        "\n",
        "#Runing the forloop to know the unique values for data analysis\n",
        "for col in categorical_cols:\n",
        "  print(f'Unique values in column {col} are:, {(data[col].unique())}')"
      ],
      "metadata": {
        "id": "QbuudT0SJRzJ"
      },
      "execution_count": null,
      "outputs": []
    },
    {
      "cell_type": "markdown",
      "source": [
        "### What all manipulations have you done and insights you found?"
      ],
      "metadata": {
        "id": "MSa1f5Uengrz"
      }
    },
    {
      "cell_type": "markdown",
      "source": [
        "Answer Here."
      ],
      "metadata": {
        "id": "LbyXE7I1olp8"
      }
    },
    {
      "cell_type": "markdown",
      "source": [
        "## ***4. Data Vizualization, Storytelling & Experimenting with charts : Understand the relationships between variables***"
      ],
      "metadata": {
        "id": "GF8Ens_Soomf"
      }
    },
    {
      "cell_type": "markdown",
      "source": [
        "#### Chart - 1  Which type of hotel is mostly preferred by the guests?"
      ],
      "metadata": {
        "id": "0wOQAZs5pc--"
      }
    },
    {
      "cell_type": "code",
      "source": [
        "# Chart - 1 visualization code\n",
        "#Fetching unique hotel count\n",
        "booking_df = data['hotel'].value_counts()\n",
        "booking_df"
      ],
      "metadata": {
        "id": "7v_ESjsspbW7"
      },
      "execution_count": null,
      "outputs": []
    },
    {
      "cell_type": "code",
      "source": [
        "# Plotting pie chart of unique Hotel booking %\n",
        "x_axis = booking_df.plot.pie(figsize=(12,8),fontsize=20, autopct='%5.1f%%',shadow=True, explode=[0.05,0.05])\n",
        "\n",
        "x_axis.set_title('Booking percentage in each Hotel',fontsize=19)\n",
        "plt.show()\n"
      ],
      "metadata": {
        "id": "ARJebYuaJsMN"
      },
      "execution_count": null,
      "outputs": []
    },
    {
      "cell_type": "markdown",
      "source": [
        "##### 1. Why did you pick the specific chart?"
      ],
      "metadata": {
        "id": "K5QZ13OEpz2H"
      }
    },
    {
      "cell_type": "markdown",
      "source": [
        "\n",
        "Pie charts typically show relative proportions of different categories in a data set.\n",
        "\n"
      ],
      "metadata": {
        "id": "XESiWehPqBRc"
      }
    },
    {
      "cell_type": "markdown",
      "source": [
        "##### 2. What is/are the insight(s) found from the chart?"
      ],
      "metadata": {
        "id": "lQ7QKXXCp7Bj"
      }
    },
    {
      "cell_type": "markdown",
      "source": [
        "Majority of the guest prefer City Hotel over Resort Hotel"
      ],
      "metadata": {
        "id": "C_j1G7yiqdRP"
      }
    },
    {
      "cell_type": "markdown",
      "source": [
        "##### 3. Will the gained insights help creating a positive business impact?\n",
        "Are there any insights that lead to negative growth? Justify with specific reason."
      ],
      "metadata": {
        "id": "448CDAPjqfQr"
      }
    },
    {
      "cell_type": "markdown",
      "source": [
        "Yes, because it will help business owners in deciding on which hotel type to invest their money in to gain maximum financial leverage."
      ],
      "metadata": {
        "id": "3cspy4FjqxJW"
      }
    },
    {
      "cell_type": "markdown",
      "source": [
        "#### Chart - 2 From which country most guests are coming?"
      ],
      "metadata": {
        "id": "KSlN3yHqYklG"
      }
    },
    {
      "cell_type": "code",
      "source": [
        "# Chart - 2 visualization code\n",
        "# Counting the guests from various countries.\n",
        "country_data = data['country'].value_counts().reset_index().rename(columns={'index': 'country','country': 'count of guests'})[:10]\n",
        "\n",
        "\n",
        "# Visualizing by plotting the graph\n",
        "plt.figure(figsize=(20,8))\n",
        "sns.barplot(x=country_data['country'],y=country_data['count of guests'])\n",
        "plt.xlabel('Country',fontsize=20)\n",
        "plt.ylabel('Number of guests',fontsize=20)\n",
        "plt.title(\"Number of guests from diffrent Countries\",fontsize=25)"
      ],
      "metadata": {
        "id": "R4YgtaqtYklH"
      },
      "execution_count": null,
      "outputs": []
    },
    {
      "cell_type": "markdown",
      "source": [
        "Abbreviations for countries\n",
        "\n",
        "PRT- Portugal\n",
        "\n",
        "GBR- United Kingdom\n",
        "\n",
        "FRA- France\n",
        "\n",
        "ESP- Spain\n",
        "\n",
        "DEU - Germany\n",
        "\n",
        "ITA -Itlay\n",
        "\n",
        "IRL - Ireland\n",
        "\n",
        "BEL -Belgium\n",
        "\n",
        "BRA -Brazil\n",
        "\n",
        "NLD-Netherlands"
      ],
      "metadata": {
        "id": "51SyTsB3ePK5"
      }
    },
    {
      "cell_type": "markdown",
      "source": [
        "##### 1. Why did you pick the specific chart?"
      ],
      "metadata": {
        "id": "t6dVpIINYklI"
      }
    },
    {
      "cell_type": "markdown",
      "source": [
        "A bar plot shows catergorical data as rectangular bars with the height of bars proportional to the value they represent. It is often used to compare between values of different categories in the data."
      ],
      "metadata": {
        "id": "5aaW0BYyYklI"
      }
    },
    {
      "cell_type": "markdown",
      "source": [
        "##### 2. What is/are the insight(s) found from the chart?"
      ],
      "metadata": {
        "id": "ijmpgYnKYklI"
      }
    },
    {
      "cell_type": "markdown",
      "source": [
        "\n",
        "From plotted bar plot, its evident that most of guest visiting these City hotels and Resort hotels are from Portugal and other European countries namely Britain, France, Spain and Germany. Among which Portugal takes the lion's share with more than 25000 customers."
      ],
      "metadata": {
        "id": "PSx9atu2YklI"
      }
    },
    {
      "cell_type": "markdown",
      "source": [
        "##### 3. Will the gained insights help creating a positive business impact?\n",
        "Are there any insights that lead to negative growth? Justify with specific reason."
      ],
      "metadata": {
        "id": "-JiQyfWJYklI"
      }
    },
    {
      "cell_type": "code",
      "source": [],
      "metadata": {
        "id": "IVvLZ8wWFPDY"
      },
      "execution_count": null,
      "outputs": []
    },
    {
      "cell_type": "markdown",
      "source": [
        "\n",
        "\n",
        "Yes, because now the hotel owners can try to understand the reason as to why majority of the customers are from Portugal. The countries where the number is low, whether it's competitor is providing better services there. Since Portugal is occupying a major chunk of the chart, The business owner may now do targeted marketing by applying the 80:20 rule to maximize their profits."
      ],
      "metadata": {
        "id": "BcBbebzrYklV"
      }
    },
    {
      "cell_type": "markdown",
      "source": [
        "#### Chart - 3 Which is the most preferred room type by the customers?"
      ],
      "metadata": {
        "id": "EM7whBJCYoAo"
      }
    },
    {
      "cell_type": "code",
      "source": [
        "# Chart - 3 visualization code-\n",
        "# Setting plotsize\n",
        "plt.figure(figsize=(18,8))\n",
        "\n",
        "# Plotting\n",
        "sns.countplot(x=data['assigned_room_type'],order=data['assigned_room_type'].value_counts().index)\n",
        "#  setting xlabel for the plot\n",
        "plt.xlabel('Room Type',fontsize=20)\n",
        "# setting y label for the plot\n",
        "plt.ylabel('Count of Room Type',fontsize=20)\n",
        "# setting title for the plot\n",
        "plt.title(\"Most preferred Room type\",fontsize=25)\n"
      ],
      "metadata": {
        "id": "t6GMdE67YoAp"
      },
      "execution_count": null,
      "outputs": []
    },
    {
      "cell_type": "markdown",
      "source": [
        "##### 1. Why did you pick the specific chart?"
      ],
      "metadata": {
        "id": "fge-S5ZAYoAp"
      }
    },
    {
      "cell_type": "markdown",
      "source": [
        "Show the counts of observations in each categorical bin using bars."
      ],
      "metadata": {
        "id": "5dBItgRVYoAp"
      }
    },
    {
      "cell_type": "markdown",
      "source": [
        "##### 2. What is/are the insight(s) found from the chart?"
      ],
      "metadata": {
        "id": "85gYPyotYoAp"
      }
    },
    {
      "cell_type": "markdown",
      "source": [
        "Most demanded room type is A, followed by D and E."
      ],
      "metadata": {
        "id": "4jstXR6OYoAp"
      }
    },
    {
      "cell_type": "markdown",
      "source": [
        "##### 3. Will the gained insights help creating a positive business impact?\n",
        "Are there any insights that lead to negative growth? Justify with specific reason."
      ],
      "metadata": {
        "id": "RoGjAbkUYoAp"
      }
    },
    {
      "cell_type": "markdown",
      "source": [
        "Hotels should increase the no. of room types A to maximise revenue."
      ],
      "metadata": {
        "id": "zfJ8IqMcYoAp"
      }
    },
    {
      "cell_type": "markdown",
      "source": [
        "#### Chart - 4 Which type of food is mostly preferred by the guests?"
      ],
      "metadata": {
        "id": "4Of9eVA-YrdM"
      }
    },
    {
      "cell_type": "code",
      "source": [
        "# Chart - 4 visualization\n",
        "# Plotting the chart of preferred meal type\n",
        "plt.figure(figsize=(18,8))\n",
        "sns.countplot(x=data['meal'])\n",
        "plt.xlabel('Meal Type',fontsize=20)\n",
        "plt.ylabel('Count',fontsize=20)\n",
        "plt.title(\"Preferred Meal Type\",fontsize=25)"
      ],
      "metadata": {
        "id": "irlUoxc8YrdO"
      },
      "execution_count": null,
      "outputs": []
    },
    {
      "cell_type": "markdown",
      "source": [
        "Types of meal in hotels:\n",
        "\n",
        "BB - (Bed and Breakfast)\n",
        "\n",
        "HB- (Half Board)\n",
        "\n",
        "FB- (Full Board)\n",
        "\n",
        "SC- (Self Catering)"
      ],
      "metadata": {
        "id": "GvaIes-GgjkZ"
      }
    },
    {
      "cell_type": "markdown",
      "source": [
        "##### 1. Why did you pick the specific chart?"
      ],
      "metadata": {
        "id": "iky9q4vBYrdO"
      }
    },
    {
      "cell_type": "markdown",
      "source": [
        "Show the counts of observations in each categorical bin using bars."
      ],
      "metadata": {
        "id": "aJRCwT6DYrdO"
      }
    },
    {
      "cell_type": "markdown",
      "source": [
        "##### 2. What is/are the insight(s) found from the chart?"
      ],
      "metadata": {
        "id": "F6T5p64dYrdO"
      }
    },
    {
      "cell_type": "markdown",
      "source": [
        "A) The most preferred meal type by the guests is BB(Bed and Breakfast)\n",
        "\n",
        "B) HB- (Half Board) and SC- (Self Catering) are equally preferred."
      ],
      "metadata": {
        "id": "Xx8WAJvtYrdO"
      }
    },
    {
      "cell_type": "markdown",
      "source": [
        "##### 3. Will the gained insights help creating a positive business impact?\n",
        "Are there any insights that lead to negative growth? Justify with specific reason."
      ],
      "metadata": {
        "id": "y-Ehk30pYrdP"
      }
    },
    {
      "cell_type": "markdown",
      "source": [
        "\n",
        "Yes, with the gained insights hotel owner may be able to switch to dynamic pricing models for their meal plans. Those meal plan with the highest demand can be charged little bit higher with added features, while those with less demand can be charged a bit lower, to attract the customers to avail that meal type."
      ],
      "metadata": {
        "id": "jLNxxz7MYrdP"
      }
    },
    {
      "cell_type": "markdown",
      "source": [
        "#### Chart - 5 Which year had the highest bookings?"
      ],
      "metadata": {
        "id": "bamQiAODYuh1"
      }
    },
    {
      "cell_type": "code",
      "source": [
        "# Chart - 5 visualization code\n",
        "# Setting the plot size\n",
        "plt.figure(figsize=(10,6))\n",
        "\n",
        "# Plotting with countplot\n",
        "list1=['hotel', 'arrival_date_year', 'arrival_date_month','arrival_date_day_of_month']\n",
        "arrival_overview = data[list1]\n",
        "sns.countplot(data =arrival_overview, x = 'arrival_date_year', hue = 'hotel').set_title('Customer arrival by year',fontsize=20)\n",
        "plt.xlabel('Years', fontsize = 14)\n",
        "plt.ylabel('Number of bookings',fontsize = 14)\n",
        "plt.show()"
      ],
      "metadata": {
        "id": "TIJwrbroYuh3"
      },
      "execution_count": null,
      "outputs": []
    },
    {
      "cell_type": "markdown",
      "source": [
        "##### 1. Why did you pick the specific chart?"
      ],
      "metadata": {
        "id": "QHF8YVU7Yuh3"
      }
    },
    {
      "cell_type": "markdown",
      "source": [
        "Show the counts of observations in each categorical bin using bars."
      ],
      "metadata": {
        "id": "dcxuIMRPYuh3"
      }
    },
    {
      "cell_type": "markdown",
      "source": [
        "##### 2. What is/are the insight(s) found from the chart?"
      ],
      "metadata": {
        "id": "GwzvFGzlYuh3"
      }
    },
    {
      "cell_type": "markdown",
      "source": [
        "As we can see that 2016 was the year where number of hotel booking was highest followed by total bookings in 2017 and 2015.\n",
        "\n",
        "Overall City hotel had the highest number of bookings compared with Resort Hotel."
      ],
      "metadata": {
        "id": "uyqkiB8YYuh3"
      }
    },
    {
      "cell_type": "markdown",
      "source": [
        "##### 3. Will the gained insights help creating a positive business impact?\n",
        "Are there any insights that lead to negative growth? Justify with specific reason."
      ],
      "metadata": {
        "id": "qYpmQ266Yuh3"
      }
    },
    {
      "cell_type": "markdown",
      "source": [
        "Yes, Hotel owners should divert more of their resources on City hotels to maximise their profits, at the same time can try to attend to existing customers of Resort hotel."
      ],
      "metadata": {
        "id": "_WtzZ_hCYuh4"
      }
    },
    {
      "cell_type": "markdown",
      "source": [
        "#### Chart - 6 In which month most of the bookings happened?"
      ],
      "metadata": {
        "id": "OH-pJp9IphqM"
      }
    },
    {
      "cell_type": "code",
      "source": [
        "# Chart - 6 visualization\n",
        "# groupby arrival_date_month and taking the hotel count\n",
        "bookings_by_months_df = data.groupby(['arrival_date_month'])['hotel'].count().reset_index().rename(columns={'hotel':\"Counts\"})\n",
        "# Creating list of months in order\n",
        "months = ['January', 'February', 'March', 'April', 'May', 'June', 'July', 'August', 'September', 'October', 'November', 'December']\n",
        "# creating df which will map the order of above months list without changing its values.\n",
        "bookings_by_months_df['arrival_date_month'] = pd.Categorical(bookings_by_months_df['arrival_date_month'],categories=months,ordered=True)\n",
        "# sorting by arrival_date_month\n",
        "bookings_by_months_df = bookings_by_months_df.sort_values('arrival_date_month')\n",
        "\n",
        "bookings_by_months_df\n"
      ],
      "metadata": {
        "id": "kuRf4wtuphqN"
      },
      "execution_count": null,
      "outputs": []
    },
    {
      "cell_type": "code",
      "source": [
        "# Setting plot size\n",
        "plt.figure(figsize=(20,8))\n",
        "\n",
        "# Plotting lineplot on x-months & y-booking counts\n",
        "sns.lineplot(x=bookings_by_months_df['arrival_date_month'],y=bookings_by_months_df['Counts'])\n",
        "\n",
        "# Setting title for the plot\n",
        "plt.title('Number of bookings across each month',fontsize=25)\n",
        "# Setting x label\n",
        "plt.xlabel('Month',fontsize=20)\n",
        "# Setting y label\n",
        "plt.ylabel('Number of bookings',fontsize=20)\n"
      ],
      "metadata": {
        "id": "9kfiMWjRMMyK"
      },
      "execution_count": null,
      "outputs": []
    },
    {
      "cell_type": "markdown",
      "source": [
        "##### 1. Why did you pick the specific chart?"
      ],
      "metadata": {
        "id": "bbFf2-_FphqN"
      }
    },
    {
      "cell_type": "markdown",
      "source": [
        "Line charts are used to represent the relation between two data X and Y on a different axis."
      ],
      "metadata": {
        "id": "loh7H2nzphqN"
      }
    },
    {
      "cell_type": "markdown",
      "source": [
        "##### 2. What is/are the insight(s) found from the chart?"
      ],
      "metadata": {
        "id": "_ouA3fa0phqN"
      }
    },
    {
      "cell_type": "markdown",
      "source": [
        "Peak visiting season is from mid June to August because of summer breaks in Europe\n",
        "Off season is from November to February because of cold weather throughout Europe"
      ],
      "metadata": {
        "id": "VECbqPI7phqN"
      }
    },
    {
      "cell_type": "markdown",
      "source": [
        "##### 3. Will the gained insights help creating a positive business impact?\n",
        "Are there any insights that lead to negative growth? Justify with specific reason."
      ],
      "metadata": {
        "id": "Seke61FWphqN"
      }
    },
    {
      "cell_type": "markdown",
      "source": [
        "These insights can be used by hotel owners to apply dynamic pricing to their packages. In peak seasons, price may be kept higher. For example, during summer holidays from June to September, prices may be kept higher, while during off season (Winter months) from November to February, price may be kept lower."
      ],
      "metadata": {
        "id": "DW4_bGpfphqN"
      }
    },
    {
      "cell_type": "markdown",
      "source": [
        "#### Chart - 7 Which Distribution channel is mostly used for hotel bookings?\n"
      ],
      "metadata": {
        "id": "PIIx-8_IphqN"
      }
    },
    {
      "cell_type": "code",
      "source": [
        "# Chart - 7 visualization code\n",
        "# Creating labels\n",
        "labels = data['distribution_channel'].value_counts().index.tolist()\n",
        "\n",
        "# Creating new df of distribution channel\n",
        "distribution_channel_df= data['distribution_channel'].value_counts().reset_index().rename(columns={'index':\"distribution_channel\",'distribution_channel':'count'})\n",
        "\n",
        "# Adding percentage columns to the distribution_channel_df\n",
        "distribution_channel_df['percentage']=round(distribution_channel_df['count']*100/data.shape[0],1)\n",
        "\n",
        "# Creating list of percentage\n",
        "sizes=distribution_channel_df['percentage'].values.tolist()\n",
        "\n",
        "# Plotting the pie chart\n",
        "data['distribution_channel'].value_counts().plot.pie(explode=[0.05, 0.05,0.05,0.05,0.05], shadow=False, figsize=(15,8),fontsize=10,labels=None)\n",
        "\n",
        "# Setting legends with the percentage values\n",
        "labels = [f'{l}, {s}%' for l, s in zip(labels, sizes)]\n",
        "plt.legend(bbox_to_anchor=(0.85, 1), loc='upper left', labels=labels)\n",
        "plt.title(' Mostly Used Distribution Channel for Hotel Bookings ')"
      ],
      "metadata": {
        "id": "lqAIGUfyphqO"
      },
      "execution_count": null,
      "outputs": []
    },
    {
      "cell_type": "markdown",
      "source": [
        "##### 1. Why did you pick the specific chart?"
      ],
      "metadata": {
        "id": "t27r6nlMphqO"
      }
    },
    {
      "cell_type": "markdown",
      "source": [
        "Pie charts typically show relative proportions of different categories in a data set."
      ],
      "metadata": {
        "id": "iv6ro40sphqO"
      }
    },
    {
      "cell_type": "markdown",
      "source": [
        "##### 2. What is/are the insight(s) found from the chart?"
      ],
      "metadata": {
        "id": "r2jJGEOYphqO"
      }
    },
    {
      "cell_type": "markdown",
      "source": [
        "As we can see, Resort hotel and City hotel are getting most of bookings from travel agency and tour operators. May be in future they will be monopolize the entire booking channel."
      ],
      "metadata": {
        "id": "Po6ZPi4hphqO"
      }
    },
    {
      "cell_type": "markdown",
      "source": [
        "##### 3. Will the gained insights help creating a positive business impact?\n",
        "Are there any insights that lead to negative growth? Justify with specific reason."
      ],
      "metadata": {
        "id": "b0JNsNcRphqO"
      }
    },
    {
      "cell_type": "markdown",
      "source": [
        "Hence hotel owners should promote more in different market segments to beat the monopoly condition. They may also find ways to develop a strong partnership with the TA/TO to increase their bookings count."
      ],
      "metadata": {
        "id": "xvSq8iUTphqO"
      }
    },
    {
      "cell_type": "markdown",
      "source": [
        "#### Chart - 8 What is the percentage of cancellation?"
      ],
      "metadata": {
        "id": "BZR9WyysphqO"
      }
    },
    {
      "cell_type": "code",
      "source": [
        "# Chart - 8 visualization code\n",
        "# Plotting the pie chart\n",
        "data['is_canceled'].value_counts().plot.pie(explode=[0.05, 0.05], autopct='%1.1f%%', shadow=True, figsize=(10,8),fontsize=20)\n",
        "# Setting the title\n",
        "plt.title(\"Cancellation and non Cancellation\")"
      ],
      "metadata": {
        "id": "TdPTWpAVphqO"
      },
      "execution_count": null,
      "outputs": []
    },
    {
      "cell_type": "markdown",
      "source": [
        "0 = Not cancelled\n",
        "1 = Cancelled"
      ],
      "metadata": {
        "id": "j9qES2berb8V"
      }
    },
    {
      "cell_type": "markdown",
      "source": [
        "##### 1. Why did you pick the specific chart?"
      ],
      "metadata": {
        "id": "jj7wYXLtphqO"
      }
    },
    {
      "cell_type": "markdown",
      "source": [
        "Pie charts typically show relative proportions of different categories in a data set."
      ],
      "metadata": {
        "id": "Ob8u6rCTphqO"
      }
    },
    {
      "cell_type": "markdown",
      "source": [
        "##### 2. What is/are the insight(s) found from the chart?"
      ],
      "metadata": {
        "id": "eZrbJ2SmphqO"
      }
    },
    {
      "cell_type": "markdown",
      "source": [
        "27.5 % of the bookings were cancelled, while 72.5% were not cancelled."
      ],
      "metadata": {
        "id": "mZtgC_hjphqO"
      }
    },
    {
      "cell_type": "markdown",
      "source": [
        "##### 3. Will the gained insights help creating a positive business impact?\n",
        "Are there any insights that lead to negative growth? Justify with specific reason."
      ],
      "metadata": {
        "id": "rFu4xreNphqO"
      }
    },
    {
      "cell_type": "markdown",
      "source": [
        "Hotel owners should try to find out why did the customers, who has booked earlier, went on to cancel the booking. By taking their feedback through voice call or email, companies may know the reason. Accordingly they may change their strategy to counter such scenarios in the future."
      ],
      "metadata": {
        "id": "ey_0qi68phqO"
      }
    },
    {
      "cell_type": "markdown",
      "source": [
        "#### Chart - 9 Which Agent made the most bookings?\n"
      ],
      "metadata": {
        "id": "YJ55k-q6phqO"
      }
    },
    {
      "cell_type": "code",
      "source": [
        "# Chart - 9 visualization code\n",
        "# Return highest bookings made by agents\n",
        "highest_bookings = data.groupby(['agent'])['agent'].agg({'count'}).reset_index().rename(columns={'count': \"Most_Bookings\" }).sort_values(by='Most_Bookings',ascending=False)\n",
        "\n",
        "# As agent 0 was a NAN value, we replaced it with 0 which indicates no bookings. So decided to drop.\n",
        "highest_bookings.drop(highest_bookings[highest_bookings['agent']==0].index,inplace=True)\n",
        "\n",
        "# Taking into consideration top 10 agents\n",
        "top_ten_highest_bookings = highest_bookings[:10]\n",
        "\n",
        "top_ten_highest_bookings"
      ],
      "metadata": {
        "id": "B2aS4O1ophqO"
      },
      "execution_count": null,
      "outputs": []
    },
    {
      "cell_type": "code",
      "source": [
        "# Plotting the graph\n",
        "\n",
        "plt.figure(figsize=(18,8))\n",
        "sns.barplot(x=top_ten_highest_bookings['agent'],y=top_ten_highest_bookings['Most_Bookings'],order=top_ten_highest_bookings['agent'])\n",
        "plt.xlabel('Agent No',fontsize=20)\n",
        "plt.ylabel('Number of Bookings',fontsize=20)\n",
        "plt.title(\"Most Bookings Made by the agent\",fontsize=25)"
      ],
      "metadata": {
        "id": "DwDnuHNPNk7Q"
      },
      "execution_count": null,
      "outputs": []
    },
    {
      "cell_type": "markdown",
      "source": [
        "##### 1. Why did you pick the specific chart?"
      ],
      "metadata": {
        "id": "gCFgpxoyphqP"
      }
    },
    {
      "cell_type": "markdown",
      "source": [
        "A bar plot shows catergorical data as rectangular bars with the height of bars proportional to the value they represent. It is often used to compare between values of different categories in the data."
      ],
      "metadata": {
        "id": "TVxDimi2phqP"
      }
    },
    {
      "cell_type": "markdown",
      "source": [
        "##### 2. What is/are the insight(s) found from the chart?"
      ],
      "metadata": {
        "id": "OVtJsKN_phqQ"
      }
    },
    {
      "cell_type": "markdown",
      "source": [
        "Agent ID No. 9.0 made most of the bookings, followed by 240.0\n",
        "\n"
      ],
      "metadata": {
        "id": "ngGi97qjphqQ"
      }
    },
    {
      "cell_type": "markdown",
      "source": [
        "##### 3. Will the gained insights help creating a positive business impact?\n",
        "Are there any insights that lead to negative growth? Justify with specific reason."
      ],
      "metadata": {
        "id": "lssrdh5qphqQ"
      }
    },
    {
      "cell_type": "markdown",
      "source": [
        "From the above insight, hotel owners may incentivise both the top two agents, while at the same time motivate others by organizing competitions."
      ],
      "metadata": {
        "id": "tBpY5ekJphqQ"
      }
    },
    {
      "cell_type": "markdown",
      "source": [
        "#### Chart - 10 What is the percentage of repeated guests?"
      ],
      "metadata": {
        "id": "U2RJ9gkRphqQ"
      }
    },
    {
      "cell_type": "code",
      "source": [
        "# Chart - 10 visualization code\n",
        "# Plotting a pie chart\n",
        "data['is_repeated_guest'].value_counts().plot.pie(explode=(0.05,0.05),autopct='%1.1f%%',shadow=True,figsize=(12,8),fontsize=20)\n",
        "# Creating the title\n",
        "plt.title(\" Percentage of repeated guests\",fontsize=20)"
      ],
      "metadata": {
        "id": "GM7a4YP4phqQ"
      },
      "execution_count": null,
      "outputs": []
    },
    {
      "cell_type": "markdown",
      "source": [
        "##### 1. Why did you pick the specific chart?"
      ],
      "metadata": {
        "id": "1M8mcRywphqQ"
      }
    },
    {
      "cell_type": "markdown",
      "source": [
        "Pie charts typically show relative proportions of different categories in a data set."
      ],
      "metadata": {
        "id": "8agQvks0phqQ"
      }
    },
    {
      "cell_type": "markdown",
      "source": [
        "##### 2. What is/are the insight(s) found from the chart?"
      ],
      "metadata": {
        "id": "tgIPom80phqQ"
      }
    },
    {
      "cell_type": "markdown",
      "source": [
        "Repeated guests are very few which only comprise of 3.9 %."
      ],
      "metadata": {
        "id": "Qp13pnNzphqQ"
      }
    },
    {
      "cell_type": "markdown",
      "source": [
        "##### 3. Will the gained insights help creating a positive business impact?\n",
        "Are there any insights that lead to negative growth? Justify with specific reason.\n",
        "\n",
        "Hotel owners, in order to retain the guests should take feedbacks from them and try to improve upon the services or provide something unique than their competitors."
      ],
      "metadata": {
        "id": "JMzcOPDDphqR"
      }
    },
    {
      "cell_type": "markdown",
      "source": [
        "Bivariate and Multivariate Analysis"
      ],
      "metadata": {
        "id": "Sh3TT2Y5iLzL"
      }
    },
    {
      "cell_type": "markdown",
      "source": [
        "#### Chart - 11 What is the Optimal length of stay in both types of hotels ?"
      ],
      "metadata": {
        "id": "x-EpHcCOp1ci"
      }
    },
    {
      "cell_type": "code",
      "source": [
        "# Chart - 11 visualization code\n",
        "# Creating a not cancelled dataframe\n",
        "not_cancelled_df = data[data['is_canceled'] == 0]\n",
        "# Creating a hotel stay dataframe\n",
        "hotel_stay_df1 = not_cancelled_df[not_cancelled_df['total_stay'] <= 15]  #Visualizing pattern till 15days stay"
      ],
      "metadata": {
        "id": "mAQTIvtqp1cj"
      },
      "execution_count": null,
      "outputs": []
    },
    {
      "cell_type": "code",
      "source": [
        "# Setting plot size and plotting barchart\n",
        "plt.figure(figsize = (15,6))\n",
        "sns.countplot(x = hotel_stay_df1['total_stay'], hue = hotel_stay_df1['hotel'])\n",
        "\n",
        "# Adding the label of the chart\n",
        "plt.title('Preferred stay length in each Hotel',fontsize = 20, color = 'Red' )\n",
        "plt.xlabel('Stay length in days', fontsize=14)\n",
        "plt.ylabel(\"Count of tourist's stay\", fontsize=14)\n",
        "plt.show()"
      ],
      "metadata": {
        "id": "RJgPh7JaOkOl"
      },
      "execution_count": null,
      "outputs": []
    },
    {
      "cell_type": "markdown",
      "source": [
        "##### 1. Why did you pick the specific chart?"
      ],
      "metadata": {
        "id": "X_VqEhTip1ck"
      }
    },
    {
      "cell_type": "markdown",
      "source": [
        "Show the counts of observations in each categorical bin using bars."
      ],
      "metadata": {
        "id": "-vsMzt_np1ck"
      }
    },
    {
      "cell_type": "markdown",
      "source": [
        "##### 2. What is/are the insight(s) found from the chart?"
      ],
      "metadata": {
        "id": "8zGJKyg5p1ck"
      }
    },
    {
      "cell_type": "markdown",
      "source": [
        "Guest prefer 1-4 days when staying in City Hotels.\n",
        "Guest prefer 1-4 days when staying in Resort Hotels as well, while 7 days stay is also a popular choice among guests."
      ],
      "metadata": {
        "id": "ZYdMsrqVp1ck"
      }
    },
    {
      "cell_type": "markdown",
      "source": [
        "##### 3. Will the gained insights help creating a positive business impact?\n",
        "Are there any insights that lead to negative growth? Justify with specific reason."
      ],
      "metadata": {
        "id": "PVzmfK_Ep1ck"
      }
    },
    {
      "cell_type": "markdown",
      "source": [
        "Yes, from the above insight, hotel owners may bring in more packages targeting the 1-4 days group. In case of Resort hotel, 7 days packages could be continued looking at their popularity among customers."
      ],
      "metadata": {
        "id": "druuKYZpp1ck"
      }
    },
    {
      "cell_type": "markdown",
      "source": [
        "#### Chart - 12  Which distribution channel contributed more to ADR in order to increase the income ?"
      ],
      "metadata": {
        "id": "n3dbpmDWp1ck"
      }
    },
    {
      "cell_type": "code",
      "source": [
        "# Chart - 12 visualization code\n",
        "# Groupby distribution channel and hotel\n",
        "bar_chart = data.groupby(['hotel','distribution_channel'])['adr'].count().unstack().transpose().fillna(0)\n",
        "bar_chart.drop('Undefined',axis =0, inplace = True)"
      ],
      "metadata": {
        "id": "bwevp1tKp1ck"
      },
      "execution_count": null,
      "outputs": []
    },
    {
      "cell_type": "code",
      "source": [
        "# Displaying the bar_chart DataFrame\n",
        "bar_chart"
      ],
      "metadata": {
        "id": "FZdY1fo5PCHo"
      },
      "execution_count": null,
      "outputs": []
    },
    {
      "cell_type": "code",
      "source": [
        "# Plotting bar chart for distribution channel of both hotels by average daily rate\n",
        "ax =  bar_chart.plot(kind = \"barh\",figsize=(10,6))\n",
        "ax.legend(bbox_to_anchor=(1,1))\n",
        "\n",
        "# Adding the label of the chart\n",
        "ax.yaxis.set_label_text(\"Market segment\", fontsize = 14)\n",
        "ax.xaxis.set_label_text(\"Average daily Rate\", fontsize = 14)\n",
        "ax.set_title(\"Market segment wise ADR\", fontsize = 20)\n",
        "\n",
        "# Displaying the chart\n",
        "plt.show()"
      ],
      "metadata": {
        "id": "Oj1nCfxcPIml"
      },
      "execution_count": null,
      "outputs": []
    },
    {
      "cell_type": "markdown",
      "source": [
        "Corporate - These are corporate hotel booking companies which makes bookings\n",
        "possible.\n",
        "\n",
        "GDS - A GDS is a worldwide conduit between travel bookers and suppliers, such as hotels and other accommodation providers. It communicates live products, price and availability data to travel agents and online booking engines, and allows for automated transactions.\n",
        "Direct- The bookings which are directly made with the respective hotels.\n",
        "TA/TO- The bookings which are made through travel agents or tour operators."
      ],
      "metadata": {
        "id": "0l7X0a7z7bat"
      }
    },
    {
      "cell_type": "markdown",
      "source": [
        "##### 1. Why did you pick the specific chart?"
      ],
      "metadata": {
        "id": "ylSl6qgtp1ck"
      }
    },
    {
      "cell_type": "markdown",
      "source": [
        "A bar chart describes the comparisons between the discrete categories. One of the axis of the plot represents the specific categories being compared, while the other axis represents the measured values corresponding to those categories."
      ],
      "metadata": {
        "id": "m2xqNkiQp1ck"
      }
    },
    {
      "cell_type": "markdown",
      "source": [
        "##### 2. What is/are the insight(s) found from the chart?"
      ],
      "metadata": {
        "id": "ZWILFDl5p1ck"
      }
    },
    {
      "cell_type": "markdown",
      "source": [
        "From the chart is clear that :\n",
        "\n",
        "'Direct' and 'TA/TO' channel has almost equally contributed in ADR in both type of hotels i.e. 'City Hotel' and 'Resort Hotel'. While 'TA/TO' dominates the chart in terms of total ADR.\n",
        "GDS has slightly contributed in adr in 'City Hotel' type.\n",
        "Corporate booking channel has also contributed to the ADR."
      ],
      "metadata": {
        "id": "x-lUsV2mp1ck"
      }
    },
    {
      "cell_type": "markdown",
      "source": [
        "##### 3. Will the gained insights help creating a positive business impact?\n",
        "Are there any insights that lead to negative growth? Justify with specific reason."
      ],
      "metadata": {
        "id": "M7G43BXep1ck"
      }
    },
    {
      "cell_type": "markdown",
      "source": [
        "Yes, Hotel owners should tie up with TA/TO partners, to increase their market share."
      ],
      "metadata": {
        "id": "5wwDJXsLp1cl"
      }
    },
    {
      "cell_type": "markdown",
      "source": [
        "#### Chart - 13 What is the reservation status from different distribution Channels ?"
      ],
      "metadata": {
        "id": "Ag9LCva-p1cl"
      }
    },
    {
      "cell_type": "code",
      "source": [
        "# Chart - 13 visualization\n",
        "# Groupby Reservation Status and Distribution Channels for each Hotel\n",
        "table1=data.groupby(['hotel','distribution_channel','reservation_status'], as_index=False)['is_canceled'].count().sort_values('is_canceled', ascending=False)\n",
        "pivot=table1.pivot_table(values='is_canceled', index=['hotel','distribution_channel'],columns='reservation_status').transpose()\n",
        "pivot.fillna(0, inplace=True)\n"
      ],
      "metadata": {
        "id": "EUfxeq9-p1cl"
      },
      "execution_count": null,
      "outputs": []
    },
    {
      "cell_type": "code",
      "source": [
        "# Plotting bar graph for different Reservation status by diiferent Distribution Channels\n",
        "can=pivot.plot(kind = 'bar',figsize=(13,6))\n",
        "can.legend(bbox_to_anchor=(1,1))\n",
        "\n",
        "# Labeling the chart\n",
        "can.yaxis.set_label_text(\"Count of Reservation Status\", fontsize = 15)\n",
        "can.xaxis.set_label_text(\"Reservation Status\", fontsize = 15)\n",
        "can.set_title(\"Reservation status of different Distribution Channels\", fontsize = 20)\n",
        "plt.xticks(rotation = 0,fontsize = 12)\n",
        "plt.show()"
      ],
      "metadata": {
        "id": "wPIlvEPmPuY3"
      },
      "execution_count": null,
      "outputs": []
    },
    {
      "cell_type": "markdown",
      "source": [
        "##### 1. Why did you pick the specific chart?"
      ],
      "metadata": {
        "id": "E6MkPsBcp1cl"
      }
    },
    {
      "cell_type": "markdown",
      "source": [
        "A bar chart describes the comparisons between the discrete categories. One of the axis of the plot represents the specific categories being compared, while the other axis represents the measured values corresponding to those categories."
      ],
      "metadata": {
        "id": "V22bRsFWp1cl"
      }
    },
    {
      "cell_type": "markdown",
      "source": [
        "##### 2. What is/are the insight(s) found from the chart?"
      ],
      "metadata": {
        "id": "2cELzS2fp1cl"
      }
    },
    {
      "cell_type": "markdown",
      "source": [
        "We can infer from above graph that Bookings and Cancellations from both Hotels are more from Travel agency (TA/TO).\n",
        "Guest visiting both hotels, Directly and via Corporate are less likely to cancel their booking.\n",
        "We can notice a very small proportion of guest booking via Travel agency not showing up at Hotel."
      ],
      "metadata": {
        "id": "ozQPc2_Ip1cl"
      }
    },
    {
      "cell_type": "markdown",
      "source": [
        "##### 3. Will the gained insights help creating a positive business impact?\n",
        "Are there any insights that lead to negative growth? Justify with specific reason."
      ],
      "metadata": {
        "id": "3MPXvC8up1cl"
      }
    },
    {
      "cell_type": "markdown",
      "source": [
        "Yes, from the above insight, hotel owners should communicate and discuss with the travel agents/ tour operators, various ways in which then can prevent such cancellations from happening."
      ],
      "metadata": {
        "id": "GL8l1tdLp1cl"
      }
    },
    {
      "cell_type": "markdown",
      "source": [
        "Chart - 14 | Which Hotels has the most repeated guests?"
      ],
      "metadata": {
        "id": "N427X_UuXru1"
      }
    },
    {
      "cell_type": "code",
      "source": [
        "# Chart - 14 visualization code\n",
        "\n",
        "# Repeated guest = 1\n",
        "# Non repeated guest = 0\n",
        "# Groupby hotel\n",
        "repeated_guests_df = data[data['is_repeated_guest']==1].groupby('hotel').size().reset_index().rename(columns={0:'number_of_repated_guests'})\n",
        "\n",
        "\n",
        "\n",
        "# Setting plot size and plotting barplot\n",
        "plt.figure(figsize=(10,8))\n",
        "sns.barplot(x=repeated_guests_df['hotel'],y=repeated_guests_df['number_of_repated_guests'])\n",
        "\n",
        "# Setting labels\n",
        "plt.xlabel('Hotel type',fontsize=20)\n",
        "plt.ylabel('Count of repeated guests',fontsize=20)\n",
        "plt.title(\"Most repeated guests for each hotel\",fontsize=25)"
      ],
      "metadata": {
        "id": "FWs1ex1xXzTD"
      },
      "execution_count": null,
      "outputs": []
    },
    {
      "cell_type": "markdown",
      "source": [
        "1. Why did you pick the specific chart?"
      ],
      "metadata": {
        "id": "I_0m3trcYAdo"
      }
    },
    {
      "cell_type": "markdown",
      "source": [
        "A bar chart describes the comparisons between the discrete categories. One of the axis of the plot represents the specific categories being compared, while the other axis represents the measured values corresponding to those categories."
      ],
      "metadata": {
        "id": "M86DNZEVYC_r"
      }
    },
    {
      "cell_type": "markdown",
      "source": [
        "2. What is/are the insight(s) found from the chart?"
      ],
      "metadata": {
        "id": "y5VFzfcDYKGK"
      }
    },
    {
      "cell_type": "markdown",
      "source": [
        "Resort Hotel has slightly more repeated guests than the City Hotel. It is almost similar for both hotels."
      ],
      "metadata": {
        "id": "d3sHsbuvYNmV"
      }
    },
    {
      "cell_type": "markdown",
      "source": [
        "\n",
        "3. Will the gained insights help creating a positive business impact?\n",
        "Are there any insights that lead to negative growth? Justify with specific reason\n"
      ],
      "metadata": {
        "id": "pFNVEw62YMv_"
      }
    },
    {
      "cell_type": "markdown",
      "source": [
        "Yes, Since both the hotels have almost similar repeated guests, with city hotel leading with a slight margin, it shows that customers are quite satisfied with the services being offered. Hotel owners should try to retain those customers for a longer period of time."
      ],
      "metadata": {
        "id": "s1p2GsYeYMXg"
      }
    },
    {
      "cell_type": "markdown",
      "source": [
        "#### Chart - 14 - Correlation Heatmap\n",
        "What is the Correlation between Booking, Pricing, Stay, Cancellation, Parking and Guest Revisiting?"
      ],
      "metadata": {
        "id": "NC_X3p0fY2L0"
      }
    },
    {
      "cell_type": "code",
      "source": [
        "# Correlation Heatmap visualization code\n",
        "\n",
        "# Aggregation of guest's monthly bookings which were checked out\n",
        "not_cancelled_df = data[data['is_canceled'] == 0]\n",
        "checked_out = not_cancelled_df.groupby(['arrival_month'], as_index=False).agg({'is_canceled':'count',\n",
        "                                                                     'adr':'mean',\n",
        "                                                                     'total_stay':'sum',\n",
        "                                                                     'required_car_parking_spaces':'sum',\n",
        "                                                                     'is_repeated_guest':'sum'})\n",
        "\n",
        "# Guest who cancelled their booking\n",
        "canceled_df = data.loc[data['reservation_status']=='Canceled',['arrival_month','reservation_status']]\n",
        "canceled_df.replace('Canceled',1, inplace=True)\n",
        "canceled = canceled_df.groupby(['arrival_month'], as_index=False)['reservation_status'].sum()\n"
      ],
      "metadata": {
        "id": "xyC9zolEZNRQ"
      },
      "execution_count": null,
      "outputs": []
    },
    {
      "cell_type": "code",
      "source": [
        "# Merging Cancelled and Non-cancelled dataset based on Month\n",
        "merge_df = pd.merge(checked_out,canceled, how = 'inner', on = ['arrival_month'])\n",
        "merge_df.rename(columns={'is_canceled':'Booking Count',\n",
        "                         'adr':'Price',\n",
        "                         'total_stay':'Total stay',\n",
        "                         'reservation_status':'Cancellation',\n",
        "                         'is_repeated_guest':'Repeated Customer',\n",
        "                         'required_car_parking_spaces':'Parking Spaces'},inplace=True)\n"
      ],
      "metadata": {
        "id": "jHPUL4NoQ3-q"
      },
      "execution_count": null,
      "outputs": []
    },
    {
      "cell_type": "code",
      "source": [
        "# Plotting correlation heatmap for different booking criteria\n",
        "plt.figure(figsize=(14,7))\n",
        "sns.heatmap(merge_df[['Booking Count','Price','Total stay','Cancellation','Repeated Customer','Parking Spaces']].corr(),vmin=-1,annot=True, annot_kws={\"size\":13})\n",
        "\n",
        "plt.title('Co-relation of the columns', fontsize=20)\n",
        "plt.xticks(fontsize=11)\n",
        "plt.yticks(fontsize=11,rotation=0)\n",
        "plt.show()"
      ],
      "metadata": {
        "id": "nt5YkZjFQ8hp"
      },
      "execution_count": null,
      "outputs": []
    },
    {
      "cell_type": "markdown",
      "source": [
        "##### 1. Why did you pick the specific chart?"
      ],
      "metadata": {
        "id": "UV0SzAkaZNRQ"
      }
    },
    {
      "cell_type": "markdown",
      "source": [
        "Correlation heatmaps was used to find potential relationships between variables and to understand the strength of these relationships."
      ],
      "metadata": {
        "id": "DVPuT8LYZNRQ"
      }
    },
    {
      "cell_type": "markdown",
      "source": [
        "##### 2. What is/are the insight(s) found from the chart?"
      ],
      "metadata": {
        "id": "YPEH6qLeZNRQ"
      }
    },
    {
      "cell_type": "markdown",
      "source": [
        "There is a high positive correlation between Booking and Pricing, Total Stay, Cancellations and Parking spaces, where as negative correlation with Repeated guests\n",
        "Increase in Pricing leads to repeated Customers not visiting again\n",
        "There is firm correlation between Parking space and Cancellation inferring that people are more likely to cancel their booking if Parking space is not available."
      ],
      "metadata": {
        "id": "bfSqtnDqZNRR"
      }
    },
    {
      "cell_type": "markdown",
      "source": [
        "Chart - 15 | What is the ADR across different months?"
      ],
      "metadata": {
        "id": "icg8hWXdSU_1"
      }
    },
    {
      "cell_type": "code",
      "source": [
        "# Chart - 15 visualization code\n",
        "\n",
        "# Groupby arrival month and hotel\n",
        "bookings_by_months_df = data.groupby(['arrival_date_month','hotel'])['adr'].mean().reset_index()\n",
        "# Creating month list\n",
        "months = ['January', 'February', 'March', 'April', 'May', 'June', 'July', 'August', 'September', 'October', 'November', 'December']\n",
        "# It will take the order of the month list in the df along with values\n",
        "bookings_by_months_df['arrival_date_month']=pd.Categorical(bookings_by_months_df['arrival_date_month'],categories=months,ordered=True)\n",
        "# Sorting of month values\n",
        "bookings_by_months_df=bookings_by_months_df.sort_values('arrival_date_month')\n",
        "bookings_by_months_df"
      ],
      "metadata": {
        "id": "lbeD0zP4SZx2"
      },
      "execution_count": null,
      "outputs": []
    },
    {
      "cell_type": "code",
      "source": [
        "# Setting plot size and plotting the line chart\n",
        "plt.figure(figsize=(20,8))\n",
        "sns.lineplot(x=bookings_by_months_df['arrival_date_month'],y=bookings_by_months_df['adr'],hue=bookings_by_months_df['hotel'])\n",
        "\n",
        "# Setting the lables\n",
        "plt.title('ADR across each month',fontsize=25)\n",
        "plt.xlabel('Month',fontsize=20)\n",
        "plt.ylabel('ADR',fontsize=20)\n"
      ],
      "metadata": {
        "id": "jvb8pzQLSnj4"
      },
      "execution_count": null,
      "outputs": []
    },
    {
      "cell_type": "markdown",
      "source": [
        "1. Why did you pick the specific chart?\n",
        "\n",
        "\n",
        "A line chart is a type of chart used to show information that changes over time. Line charts are used to track changes over short and long periods."
      ],
      "metadata": {
        "id": "0BBQQptYSsZx"
      }
    },
    {
      "cell_type": "markdown",
      "source": [
        "2. What is/are the insight(s) found from the chart?\n",
        "For Resort Hotels the ADR is high in the months of June, July and August as compared to City Hotels. May be Customers wants to spend their Summer vacation in Resorts Hotels.\n",
        "\n",
        "The best time for guests to visit Resort or City hotels is January, February, March, April, October, November and December as the average daily rate in these months is very low."
      ],
      "metadata": {
        "id": "pmqMS6dXS84I"
      }
    },
    {
      "cell_type": "markdown",
      "source": [
        "3. Will the gained insights help creating a positive business impact?\n",
        "Are there any insights that lead to negative growth? Justify with specific reason.\n",
        "\n",
        "Yes, with the above insight, hotel owners may try to attract the customers in off season with low prices to fill their rooms. Since in peak months, resort hotel is generating a lot of revenue, hotel owners may divert their resources for that time period towards resort hotels.\n",
        "\n"
      ],
      "metadata": {
        "id": "8Byvo7DjTEKt"
      }
    },
    {
      "cell_type": "markdown",
      "source": [
        "Chart - 16 | Which hotel has the longer waiting time?"
      ],
      "metadata": {
        "id": "iIvTS0m7TIRA"
      }
    },
    {
      "cell_type": "code",
      "source": [
        "# Chart - 16 visualization code\n",
        "\n",
        "# Grouping by hotel and taking the mean of days in waiting list\n",
        "waiting_time_df = data.groupby('hotel')['days_in_waiting_list'].mean().reset_index()\n",
        "# Waiting_time_df\n",
        "\n",
        "# Setting the plot size\n",
        "plt.figure(figsize=(10,8))\n",
        "\n",
        "# Plotting the barchart\n",
        "sns.barplot(x=waiting_time_df['hotel'],y=waiting_time_df['days_in_waiting_list'])\n",
        "\n",
        "# Setting the labels\n",
        "plt.xlabel('Hotel type',fontsize=20)\n",
        "plt.ylabel('waiting time',fontsize=20)\n",
        "plt.title(\"Waiting time for each hotel type\",fontsize=25)"
      ],
      "metadata": {
        "id": "2W0UISnVTKNy"
      },
      "execution_count": null,
      "outputs": []
    },
    {
      "cell_type": "markdown",
      "source": [
        "1. Why did you pick the specific chart?\n",
        "A bar chart describes the comparisons between the discrete categories. One of the axis of the plot represents the specific categories being compared, while the other axis represents the measured values corresponding to those categories."
      ],
      "metadata": {
        "id": "iXbQUdVzTT4N"
      }
    },
    {
      "cell_type": "markdown",
      "source": [
        "2. What is/are the insight(s) found from the chart?\n",
        "\n",
        "The City Hotels have a longer waiting period than the Resort Hotels. Thus we can say that City Hotels are much busier than the Resort Hotels."
      ],
      "metadata": {
        "id": "nSlz1Y1NT0aU"
      }
    },
    {
      "cell_type": "markdown",
      "source": [
        "3. Will the gained insights help creating a positive business impact?\n",
        "Are there any insights that lead to negative growth? Justify with specific reason.\n",
        "\n",
        "\n",
        "Yes, from the gained insight, hotel/business owners should try to reduce the waiting period for the city hotels to maximise customer satisfaction."
      ],
      "metadata": {
        "id": "HbuKqlCDT6uC"
      }
    },
    {
      "cell_type": "markdown",
      "source": [
        "Chart - 17 | Which hotel has the highest percentage of booking cancellation?"
      ],
      "metadata": {
        "id": "s5L0j_ohU54V"
      }
    },
    {
      "cell_type": "code",
      "source": [
        "# Chart - 17 visualization code\n",
        "\n",
        "# Booking cancelled = 1\n",
        "# Booking not cancelled = 0\n",
        "\n",
        "# Creating a new DataFrame where bookings are cancelled.\n",
        "canceled_df = data[data['is_canceled']==1]\n",
        "\n",
        "# Grouping by hotel\n",
        "canceled_df=canceled_df.groupby('hotel').size().reset_index().rename(columns={0: \"no_of_cancelled_bookings\"})\n",
        "\n",
        "# Adding total booking column for calculating the percentage\n",
        "canceled_df['total_booikngs']=data.groupby('hotel').size().reset_index().rename(columns={0:\"total_bookings\"}).drop('hotel',axis=1)\n",
        "canceled_df\n",
        "\n",
        "# Plotting the barchart\n",
        "plt.figure(figsize=(10,8))\n",
        "sns.barplot(x=canceled_df['hotel'],y=canceled_df['no_of_cancelled_bookings']*100/canceled_df['total_booikngs'])\n",
        "\n",
        "# Setting the labels\n",
        "plt.xlabel('Hotel type',fontsize=20)\n",
        "plt.ylabel('Percentage(%)',fontsize=20)\n",
        "plt.title(\"Percentage of booking cancellation\",fontsize=25)"
      ],
      "metadata": {
        "id": "NBOvqDanVA6z"
      },
      "execution_count": null,
      "outputs": []
    },
    {
      "cell_type": "markdown",
      "source": [
        "1. Why did you pick the specific chart?\n",
        "\n",
        "A bar chart describes the comparisons between the discrete categories. One of the axis of the plot represents the specific categories being compared, while the other axis represents the measured values corresponding to those categories"
      ],
      "metadata": {
        "id": "_l8rHcvPVGTF"
      }
    },
    {
      "cell_type": "markdown",
      "source": [
        "2. What is/are the insight(s) found from the chart?\n",
        "City hotels have got a cancellation percentage of 30% whereas Resort hotels have got a cancellation percentage of around 24%"
      ],
      "metadata": {
        "id": "qDuWRJ6YVMKd"
      }
    },
    {
      "cell_type": "markdown",
      "source": [
        "3. Will the gained insights help creating a positive business impact?\n",
        "Are there any insights that lead to negative growth? Justify with specific reason.\n",
        "\n",
        "\n",
        "Yes, with the gained insight, business owners may try to make changes in the company's refund/ cancellation policies to pursuade the customers from making frequent cancellations."
      ],
      "metadata": {
        "id": "E9yQkJqlVQyv"
      }
    },
    {
      "cell_type": "markdown",
      "source": [
        "Chart - 18 | Which hotel type has the most lead time?"
      ],
      "metadata": {
        "id": "ieCb6lYDVeFs"
      }
    },
    {
      "cell_type": "code",
      "source": [
        "# Chart - 18 visualization code\n",
        "\n",
        "# Grouping by hotel and taking the mean of lead time\n",
        "avg_lead_time = data.groupby('hotel')['lead_time'].mean().reset_index()\n",
        "\n",
        "# Setting the plot size\n",
        "plt.figure(figsize=(10,8))\n",
        "\n",
        "# Plotting the bar plot\n",
        "sns.barplot(x=avg_lead_time['hotel'],y=avg_lead_time['lead_time'])\n",
        "# Setting the lables\n",
        "plt.xlabel('Hotel type',fontsize=20)\n",
        "plt.ylabel('Average Lead time',fontsize=20)\n",
        "plt.title(\"Average Lead Time for each Hotel type\",fontsize=25)"
      ],
      "metadata": {
        "id": "pqU0CBFaVjFQ"
      },
      "execution_count": null,
      "outputs": []
    },
    {
      "cell_type": "markdown",
      "source": [
        "1. Why did you pick the specific chart?\n",
        "\n",
        "A bar chart describes the comparisons between the discrete categories. One of the axis of the plot represents the specific categories being compared, while the other axis represents the measured values corresponding to those categories."
      ],
      "metadata": {
        "id": "p11hU3HuVtNB"
      }
    },
    {
      "cell_type": "markdown",
      "source": [
        "2. What is/are the insight(s) found from the chart?\n",
        "\n",
        "Resort hotels have a slightly higher average lead time. Which means customers plan their trips way early than their day of check in."
      ],
      "metadata": {
        "id": "dcrREdnxVyU8"
      }
    },
    {
      "cell_type": "markdown",
      "source": [
        "3. Will the gained insights help creating a positive business impact?\n",
        "Are there any insights that lead to negative growth? Justify with specific reason.\n",
        "\n",
        "\n",
        "Yes, with the help of this insight, business/hotel owners can create an impact on their organization, by wooing the resort hotel customers with few goodies for motivating them to make more bookings in advance."
      ],
      "metadata": {
        "id": "r9RLw3AVV3QV"
      }
    },
    {
      "cell_type": "markdown",
      "source": [
        "Chart - 19 | Which Hotel type has the highest average ADR?"
      ],
      "metadata": {
        "id": "axH03EsMWNE2"
      }
    },
    {
      "cell_type": "code",
      "source": [
        "# Chart - 19 visualization code\n",
        "\n",
        "# Grouping by hotel adr\n",
        "highest_adr = data.groupby('hotel')['adr'].mean().reset_index()\n",
        "\n",
        "# Setting the plot size\n",
        "plt.figure(figsize=(10,8))\n",
        "\n",
        "# Setting the labels\n",
        "plt.xlabel('Hotel type',fontsize=20)\n",
        "plt.ylabel('ADR',fontsize=20)\n",
        "plt.title(\"Average ADR of each Hotel type\",fontsize=25)\n",
        "\n",
        "# Plotting the graph\n",
        "sns.barplot(x=highest_adr['hotel'],y=highest_adr['adr'])"
      ],
      "metadata": {
        "id": "xHvhI9NgWSjd"
      },
      "execution_count": null,
      "outputs": []
    },
    {
      "cell_type": "markdown",
      "source": [
        "1. Why did you pick the specific chart?\n",
        "\n",
        "A bar chart describes the comparisons between the discrete categories. One of the axis of the plot represents the specific categories being compared, while the other axis represents the measured values corresponding to those categories."
      ],
      "metadata": {
        "id": "g0ZiuYF8WYT3"
      }
    },
    {
      "cell_type": "markdown",
      "source": [
        "2. What is/are the insight(s) found from the chart?\n",
        "\n",
        "City hotel has the highest average ADR. Which means city hotels are generating more revenues than the resort hotels. More the ADR, more is the revenue."
      ],
      "metadata": {
        "id": "xIDmplYXWde-"
      }
    },
    {
      "cell_type": "markdown",
      "source": [
        "3. Will the gained insights help creating a positive business impact?\n",
        "Are there any insights that lead to negative growth? Justify with specific reason.\n",
        "\n",
        "Yes, with this insight, hotel owners should now make changes in the straetegies to increase the revenue of the resort hotels as well. Along with it, more offers and packages should be provided to the city hotel customers to retain them and make them loyal."
      ],
      "metadata": {
        "id": "dhJ5eCpUWjK8"
      }
    },
    {
      "cell_type": "markdown",
      "source": [
        "#### Chart - 20 - Pair Plot"
      ],
      "metadata": {
        "id": "q29F0dvdveiT"
      }
    },
    {
      "cell_type": "code",
      "source": [
        "# Pair Plot visualization code\n",
        "\n",
        "# Finding the first 5 rows of merge_df Dataframe\n",
        "merge_df.head()"
      ],
      "metadata": {
        "id": "o58-TEIhveiU"
      },
      "execution_count": null,
      "outputs": []
    },
    {
      "cell_type": "code",
      "source": [
        "# Plotting the pair plot chart\n",
        "sns.pairplot(merge_df, kind = \"reg\")\n"
      ],
      "metadata": {
        "id": "N6eoG1qXRUjx"
      },
      "execution_count": null,
      "outputs": []
    },
    {
      "cell_type": "markdown",
      "source": [
        "##### 1. Why did you pick the specific chart?"
      ],
      "metadata": {
        "id": "EXh0U9oCveiU"
      }
    },
    {
      "cell_type": "markdown",
      "source": [
        "The Seaborn Pairplot allows us to plot pairwise relationships between variables within a dataset. This creates a nice visualisation and helps us understand the data by summarising a large amount of data in a single figure. This is essential when we are exploring our dataset and trying to become familiar with it."
      ],
      "metadata": {
        "id": "eMmPjTByveiU"
      }
    },
    {
      "cell_type": "markdown",
      "source": [
        "##### 2. What is/are the insight(s) found from the chart?"
      ],
      "metadata": {
        "id": "22aHeOlLveiV"
      }
    },
    {
      "cell_type": "markdown",
      "source": [
        "There is a high positive correlation between Booking and Pricing, Total Stay, Cancellations and Parking spaces, where as negative correlation with Repeated guests\n",
        "Increase in Pricing leads to repeated Customers not visiting again\n",
        "There is firm correlation between Parking space and Cancellation infering that people are more likely to cancel their booking if Parking space is not available."
      ],
      "metadata": {
        "id": "uPQ8RGwHveiV"
      }
    },
    {
      "cell_type": "markdown",
      "source": [
        "5. Solution to Business Objective\n",
        "What do you suggest the client to achieve Business Objective ?\n",
        "Explain Briefly.\n",
        "\n",
        "Inorder to achieve the business objective, i would suggest the client to make the price dynamic, introduce offers and packages to attract new customers. To retain the existing customers and ensure their repetition the client must introduce loyalty points program which can be redeemed by the customers in their next bookings. Amenities such as parking spaces, kids corner, free internet connection can be provided to increase the number of bookings."
      ],
      "metadata": {
        "id": "a3F0NX8cirrJ"
      }
    },
    {
      "cell_type": "markdown",
      "source": [
        "# **Conclusion**"
      ],
      "metadata": {
        "id": "gCX9965dhzqZ"
      }
    },
    {
      "cell_type": "markdown",
      "source": [
        "* Majority (61%) of the guests prefer City Hotel \\over Resort Hotel. Most of\n",
        "guest visiting these hotels are from European countries namely Portugal,\n",
        "Britain, France, Spain and Germany totaling to 75% of total booking count.\n",
        "\n",
        "* 2016 observed the highest booking reservations. From Booking trend it can be inferred that Peak visiting season is from mid June to August because of summer breaks in Europe while November to February is off season because of freezing cold weather throughout Europe.\n",
        "\n",
        "* Around 11.5% of total reservations throughout year are coming from August whereas January has the least reservation of mere 5%. Guests can consider visiting these hotels during month of June and September to enjoy decent weather with almost full availability of hotels accommodation.\n",
        "\n",
        "* Inspecting different market segments, it was concluded that travel agency holds monopoly as both hotels are getting the most of booking from travel agency (around 79%). Hotel owners should consider promoting their hotels more in different market segments to penetrate market more.\n",
        "\n",
        "* Interestingly, most of the Cancellations for both Hotels are from Travel agency (TA/TO) segment inferring that it is volatile market segment. Also, a very small proportion of guest booking via Travel agency do not showing up at Hotel. Guest visiting both Hotels directly and via Corporate are less likely to cancel their booking.\n",
        "\n",
        "* There is high positive correlation between Booking, Pricing, Total Stay, Cancellations and Parking spaces whereas negative correlation with Repeated guests. With increase in Booking --> Pricing, Total stay and Parking spaces occupation increases but increase in Pricing leads to repeated Customers not visiting again.\n",
        "\n",
        "* There is firm correlation between Parking space and Cancellation inferring that people are more likely to cancel their booking if Parking space is not available.\n",
        "\n",
        "* Ideally guest prefer to stay 1-4 days in both hotels but 7 days stay at Resort hotel is also a popular choice among guests.\n",
        "\n",
        "* Only 3.9 % people revisited the hotels. Rest 96.1 % were new guests. Thus retention rate is low.\n",
        "BB( Bed & Breakfast) is the most preferred type of meal by the guests.\n",
        "\n",
        "* Average ADR for city hotel is high as compared to resort hotels. These City hotels are generating more revenue than the resort hotels.\n",
        "\n",
        "* Booking cancellation rate is high for City hotels which is almost 30 %.\n",
        "\n",
        "* Average lead time for resort hotel is high. This shows that customer make booking way in advance.\n",
        "\n",
        "* Waiting time period for City hotel is high as compared to resort hotels. That means city hotels are much busier than Resort hotels."
      ],
      "metadata": {
        "id": "Fjb1IsQkh3yE"
      }
    },
    {
      "cell_type": "markdown",
      "source": [
        "### ***Hurrah! You have successfully completed your Machine Learning Capstone Project !!!***"
      ],
      "metadata": {
        "id": "gIfDvo9L0UH2"
      }
    }
  ]
}